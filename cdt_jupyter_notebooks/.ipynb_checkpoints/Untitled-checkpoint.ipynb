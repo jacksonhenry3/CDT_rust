{
 "cells": [
  {
   "cell_type": "code",
   "execution_count": 68,
   "id": "d427f8fd-6271-4a6b-ba99-9288e967b06e",
   "metadata": {},
   "outputs": [],
   "source": [
    "import random\n",
    "import matplotlib.pyplot as plt\n",
    "from collections import Counter\n",
    "import numpy as np\n",
    "from itertools import permutations"
   ]
  },
  {
   "cell_type": "code",
   "execution_count": 82,
   "id": "6f0fe70d-c163-42cc-86e4-9d667b796921",
   "metadata": {},
   "outputs": [],
   "source": [
    "def random_partitions(n,m):\n",
    "    base = [1 for i in range(m)]\n",
    "    values = np.arange(m)\n",
    "    for i in range(n-m):\n",
    "        r = random.randint(0,m-1)\n",
    "        # Define the values and their corresponding probabilities\n",
    "\n",
    "\n",
    "        # Generate a weighted random number\n",
    "        r = np.random.choice(values, p=np.array(base)/sum(base))\n",
    "        base[r]+=1\n",
    "    return tuple(base)"
   ]
  },
  {
   "cell_type": "code",
   "execution_count": 88,
   "id": "deab3619-e6ec-4b23-8c87-3150b5d79cb1",
   "metadata": {},
   "outputs": [
    {
     "data": {
      "text/plain": [
       "(1, 1, 4, 2, 2)"
      ]
     },
     "execution_count": 88,
     "metadata": {},
     "output_type": "execute_result"
    }
   ],
   "source": [
    "random_partitions(10,5)"
   ]
  },
  {
   "cell_type": "code",
   "execution_count": 136,
   "id": "6382c9e6-fc7f-4ddf-9ded-a6a2fe150b7f",
   "metadata": {},
   "outputs": [],
   "source": [
    "sample = [random_partitions(6,4) for i in range(10000)]"
   ]
  },
  {
   "cell_type": "code",
   "execution_count": 137,
   "id": "ca22c98e-3a77-41af-80af-1792f833ce24",
   "metadata": {},
   "outputs": [
    {
     "data": {
      "image/png": "[encoded data removed]",
      "text/plain": [
       "<Figure size 640x480 with 1 Axes>"
      ]
     },
     "metadata": {},
     "output_type": "display_data"
    }
   ],
   "source": [
    "\n",
    "# Function to generate cyclic permutations of a sequence\n",
    "def cyclic_permutations(seq):\n",
    "    perms = set()\n",
    "    n = len(seq)\n",
    "    for i in range(n):\n",
    "        perm = np.roll(seq,i)\n",
    "        perms.add(tuple(perm))\n",
    "    return frozenset(perms)\n",
    "\n",
    "# Function to generate all permutations of a sequence\n",
    "def all_permutations(seq):\n",
    "    perms = frozenset(permutations(seq))\n",
    "    return perms\n",
    "\n",
    "# Count the occurrences of cyclically permutable sequences\n",
    "sequence_counts = Counter()\n",
    "\n",
    "for sequence in sample:\n",
    "    perms = sequence\n",
    "    sequence_counts[perms] += 1\n",
    "\n",
    "# Extract sequences and their corresponding counts\n",
    "sequences, counts = zip(*sequence_counts.items())\n",
    "\n",
    "# Create a bar chart to display the counts\n",
    "x_values = list(range(len(sequences)))\n",
    "\n",
    "plt.bar(x_values, counts)\n",
    "plt.xlabel('Sequence')\n",
    "plt.ylabel('Frequency')\n",
    "plt.title('Histogram of Cyclically Permuted Sequences')\n",
    "plt.xticks(x_values, [list(s) for s in sequences], rotation=90)\n",
    "plt.show()"
   ]
  },
  {
   "cell_type": "code",
   "execution_count": 142,
   "id": "975f55c2-934a-4dad-a8a9-ffe581db4d53",
   "metadata": {},
   "outputs": [
    {
     "name": "stdout",
     "output_type": "stream",
     "text": [
      "[3, 5, 4, 14, -6]\n"
     ]
    }
   ],
   "source": [
    "import random\n",
    "\n",
    "def generate_random_positive_sequence(m, n):\n",
    "    if m <= 0 or n <= 0:\n",
    "        raise ValueError(\"Both m and n must be positive integers\")\n",
    "    if n < m:\n",
    "        raise ValueError(\"The sum (n) cannot be less than the length (m)\")\n",
    "\n",
    "    # Generate a list of random positive integers that sum to n - 1\n",
    "    sequence = [random.randint(1, n - m) for _ in range(m - 1)]\n",
    "\n",
    "    # Ensure the sum of the sequence is equal to n - 1\n",
    "    sequence_sum = sum(sequence)\n",
    "\n",
    "    # Calculate the last element such that the sum of the entire sequence is equal to n\n",
    "    last_element = n - sequence_sum\n",
    "\n",
    "    # Append the last element to the sequence\n",
    "    sequence.append(last_element)\n",
    "\n",
    "    return sequence\n",
    "\n",
    "m = 5  # Length of the sequence\n",
    "n = 20  # Desired sum\n",
    "\n",
    "random_positive_sequence = generate_random_positive_sequence(m, n)\n",
    "print(random_positive_sequence)\n"
   ]
  },
  {
   "cell_type": "code",
   "execution_count": 140,
   "id": "8c980d3a-dc55-4393-95e8-1b5fcd3dc2aa",
   "metadata": {},
   "outputs": [
    {
     "data": {
      "text/plain": [
       "[1, 7, 3, 4, -5]"
      ]
     },
     "execution_count": 140,
     "metadata": {},
     "output_type": "execute_result"
    }
   ],
   "source": [
    "generate_random_sequence(5,10)"
   ]
  },
  {
   "cell_type": "code",
   "execution_count": null,
   "id": "0feef29b-143c-47b2-8824-a71e7b388c10",
   "metadata": {},
   "outputs": [],
   "source": []
  }
 ],
 "metadata": {
  "kernelspec": {
   "display_name": "PyCharm (Qnibble)",
   "language": "python",
   "name": "pycharm-c82c9ad0"
  },
  "language_info": {
   "codemirror_mode": {
    "name": "ipython",
    "version": 3
   },
   "file_extension": ".py",
   "mimetype": "text/x-python",
   "name": "python",
   "nbconvert_exporter": "python",
   "pygments_lexer": "ipython3",
   "version": "3.10.4"
  }
 },
 "nbformat": 4,
 "nbformat_minor": 5
}
