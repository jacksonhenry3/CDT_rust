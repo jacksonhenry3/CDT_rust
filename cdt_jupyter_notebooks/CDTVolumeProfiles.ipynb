{
 "cells": [
  {
   "cell_type": "code",
   "execution_count": 1,
   "id": "5a2a172d-2046-4b0d-a95f-b374ed1b4f65",
   "metadata": {},
   "outputs": [],
   "source": [
    "import random\n",
    "import matplotlib.pyplot as plt\n",
    "from collections import Counter\n",
    "import numpy as np\n",
    "from itertools import permutations\n",
    "from scipy.special import binom"
   ]
  },
  {
   "cell_type": "code",
   "execution_count": 86,
   "id": "b563c429-dafc-46ea-9bc3-ea3fb0bb69aa",
   "metadata": {},
   "outputs": [],
   "source": [
    "def random_partitions(n,m):\n",
    "    \"\"\" this give nearly unweighted random partitions of n in to m parts\n",
    "    \n",
    "    nearly unweighted becouse those with symmetry are undercounted in a known way\n",
    "    \n",
    "    \"\"\"\n",
    "    base = [1 for i in range(m)]\n",
    "    values = np.arange(m)\n",
    "    for i in range(n-m):\n",
    "        r = random.randint(0,m-1)\n",
    "        # Define the values and their corresponding probabilities\n",
    "\n",
    "\n",
    "        # Generate a weighted random number\n",
    "        r = np.random.choice(values, p=np.array(base)/sum(base))\n",
    "        base[r]+=1\n",
    "    return tuple(base)\n",
    "\n",
    "\n",
    "def temporal_multiplicity(base):\n",
    "    res =1\n",
    "    while not np.array_equal(base , np.roll(base,res)):\n",
    "        res+=1\n",
    "    return res\n",
    "\n",
    "def weighted_random_partitions(n,m):\n",
    "    \"\"\" this give nearly unweighted random partitions of n in to m parts\n",
    "    \n",
    "    nearly unweighted becouse those with symmetry are undercounted in a known way\n",
    "    \n",
    "    \"\"\"\n",
    "    base = np.array([1 for i in range(m)])\n",
    "    values = np.arange(m)\n",
    "    for _ in range(n-m):\n",
    "        # Define the values and their corresponding probabilities\n",
    "        weights = []\n",
    "        for i in range(m):\n",
    "            \n",
    "            # consider forcing addition only to those values that are unique in some way. (I.E. if all the values are the same only allow addition to the first one.\n",
    "            new_base = np.copy(base)\n",
    "            new_base[i]+=1\n",
    "            w = num_cdts(new_base)\n",
    "            weights.append(w)\n",
    "        \n",
    "        \n",
    "\n",
    "\n",
    "        # Generate a weighted random number\n",
    "        r = np.random.choice(values, p=np.array(weights)*base/sum(weights*base))\n",
    "        base[r]+=1\n",
    "    return tuple(base)\n",
    "\n",
    "import random\n",
    "\n",
    "def constrained_sum_sample_pos(total,n ):\n",
    "    \"\"\"Return a randomly chosen list of n positive integers summing to total.\n",
    "    Each such list is equally likely to occur.\"\"\"\n",
    "    \n",
    "    rng = np.random.default_rng()\n",
    "\n",
    "    dividers = sorted(rng.choice(range(1, total), n - 1, replace = False))\n",
    "    return tuple([a - b for a, b in zip(dividers + [total], [0] + dividers)])\n",
    "\n",
    "\n",
    "\n",
    "\n"
   ]
  },
  {
   "cell_type": "code",
   "execution_count": 87,
   "id": "a53a3c7a-04be-4382-b047-a4d1901373f0",
   "metadata": {},
   "outputs": [],
   "source": [
    "def num_cdts(vp):\n",
    "    total = 1\n",
    "    for i,length in enumerate(vp):\n",
    "        j = (i+1)%len(vp)\n",
    "        total*= binom(length+vp[j],length)\n",
    "    return(total)\n",
    "        \n",
    "        "
   ]
  },
  {
   "cell_type": "code",
   "execution_count": 88,
   "id": "822a706e-2b30-4c06-b810-d65394f23991",
   "metadata": {},
   "outputs": [],
   "source": [
    "num_samples = 10000\n",
    "sample = [weighted_random_partitions(6,3) for i in range(num_samples)]\n",
    "\n",
    "processed_sample = []\n",
    "for s in sample:\n",
    "    for _ in range(3//temporal_multiplicity(s)):\n",
    "        processed_sample.append(s)"
   ]
  },
  {
   "cell_type": "code",
   "execution_count": 89,
   "id": "cf3bd69e-c32b-4fda-ae25-6fb20c0959a2",
   "metadata": {},
   "outputs": [],
   "source": [
    "num_samples = len(processed_sample)"
   ]
  },
  {
   "cell_type": "code",
   "execution_count": 91,
   "id": "25ceef2f-2b7a-4b21-8da8-25444bfac613",
   "metadata": {},
   "outputs": [
    {
     "data": {
      "image/png": "[encoded data removed]",
      "text/plain": [
       "<Figure size 640x480 with 1 Axes>"
      ]
     },
     "metadata": {},
     "output_type": "display_data"
    }
   ],
   "source": [
    "\n",
    "# Function to generate cyclic permutations of a sequence\n",
    "def cyclic_permutations(seq):\n",
    "    perms = set()\n",
    "    n = len(seq)\n",
    "    for i in range(n):\n",
    "        perm = np.roll(seq,i)\n",
    "        perms.add(tuple(perm))\n",
    "    return frozenset(perms)\n",
    "\n",
    "# Function to generate all permutations of a sequence\n",
    "def all_permutations(seq):\n",
    "    perms = frozenset(permutations(seq))\n",
    "    return perms\n",
    "\n",
    "# Count the occurrences of cyclically permutable sequences\n",
    "sequence_counts = Counter()\n",
    "\n",
    "for sequence in processed_sample:\n",
    "    perms = cyclic_permutations(sequence)\n",
    "    sequence_counts[perms] += 1\n",
    "\n",
    "# Extract sequences and their corresponding counts\n",
    "sequences, counts = zip(*sequence_counts.items())\n",
    "\n",
    "target_counts = []\n",
    "for sequence in sequences:\n",
    "    target_counts.append(num_cdts(list(sequence)[0]))\n",
    "    \n",
    "    \n",
    "target_total = sum(target_counts)\n",
    "for i,target_count in enumerate(target_counts):\n",
    "    target_counts[i] = target_count/target_total*num_samples\n",
    "\n",
    "# Create a bar chart to display the counts\n",
    "x_values = list(range(len(sequences)))\n",
    "\n",
    "plt.bar(x_values, target_counts,alpha = .8)\n",
    "plt.bar(x_values, counts,alpha = .8)\n",
    "\n",
    "plt.xlabel('Sequence')\n",
    "plt.ylabel('Count')\n",
    "plt.title('Histogram of Cyclically Permuted Sequences')\n",
    "plt.xticks(x_values, [list(s) for s in sequences], rotation=90)\n",
    "plt.show()"
   ]
  },
  {
   "cell_type": "code",
   "execution_count": 95,
   "id": "50e61941-817a-4c7b-96c2-9fa7fc4fd133",
   "metadata": {},
   "outputs": [
    {
     "data": {
      "text/plain": [
       "196.0"
      ]
     },
     "execution_count": 95,
     "metadata": {},
     "output_type": "execute_result"
    }
   ],
   "source": [
    "num_cdts([1,1,1,6])"
   ]
  },
  {
   "cell_type": "code",
   "execution_count": 96,
   "id": "a9799e5b-9d1c-47e8-8cb4-2216a5369598",
   "metadata": {},
   "outputs": [
    {
     "data": {
      "text/plain": [
       "4.0"
      ]
     },
     "execution_count": 96,
     "metadata": {},
     "output_type": "execute_result"
    }
   ],
   "source": [
    "num_cdts([1,1])"
   ]
  },
  {
   "cell_type": "code",
   "execution_count": 97,
   "id": "2265651c-9e90-4410-90ba-a0cc7ff178a2",
   "metadata": {},
   "outputs": [
    {
     "data": {
      "text/plain": [
       "196"
      ]
     },
     "execution_count": 97,
     "metadata": {},
     "output_type": "execute_result"
    }
   ],
   "source": [
    "2*2*7*7"
   ]
  },
  {
   "cell_type": "code",
   "execution_count": 98,
   "id": "4595c725-530f-4771-bac6-84234f7a40ef",
   "metadata": {},
   "outputs": [
    {
     "data": {
      "text/plain": [
       "196"
      ]
     },
     "execution_count": 98,
     "metadata": {},
     "output_type": "execute_result"
    }
   ],
   "source": [
    "28*7"
   ]
  },
  {
   "cell_type": "code",
   "execution_count": null,
   "id": "20eb3b1f-9981-433c-9007-7afdc25f6245",
   "metadata": {},
   "outputs": [],
   "source": []
  }
 ],
 "metadata": {
  "kernelspec": {
   "display_name": "PyCharm (Qnibble)",
   "language": "python",
   "name": "pycharm-c82c9ad0"
  },
  "language_info": {
   "codemirror_mode": {
    "name": "ipython",
    "version": 3
   },
   "file_extension": ".py",
   "mimetype": "text/x-python",
   "name": "python",
   "nbconvert_exporter": "python",
   "pygments_lexer": "ipython3",
   "version": "3.10.4"
  }
 },
 "nbformat": 4,
 "nbformat_minor": 5
}
